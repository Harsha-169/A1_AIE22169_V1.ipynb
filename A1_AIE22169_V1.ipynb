{
  "nbformat": 4,
  "nbformat_minor": 0,
  "metadata": {
    "colab": {
      "provenance": []
    },
    "kernelspec": {
      "name": "python3",
      "display_name": "Python 3"
    },
    "language_info": {
      "name": "python"
    }
  },
  "cells": [
    {
      "cell_type": "code",
      "execution_count": 1,
      "metadata": {
        "colab": {
          "base_uri": "https://localhost:8080/"
        },
        "id": "NS6vsfMhWE7J",
        "outputId": "c2a37b88-047f-4159-9821-eb742b3eef6a"
      },
      "outputs": [
        {
          "output_type": "stream",
          "name": "stdout",
          "text": [
            "Count of pairs with sum 10 in the list: 2\n"
          ]
        }
      ],
      "source": [
        "#Q1\n",
        "# Function definition\n",
        "def count_pairs_with_sum(lst, target_sum):\n",
        "    pairs_count = 0\n",
        "    seen_numbers = set()\n",
        "\n",
        "    for num in lst:\n",
        "        complement = target_sum - num\n",
        "        # Check if the complement is in the set of seen numbers\n",
        "        if complement in seen_numbers:\n",
        "            pairs_count += 1\n",
        "        seen_numbers.add(num)\n",
        "\n",
        "    return pairs_count\n",
        "\n",
        "\n",
        "list_a = [2, 7, 4, 1, 3, 6]\n",
        "target_sum_A = 10\n",
        "pairs_count_A = count_pairs_with_sum(list_a, target_sum_A)\n",
        "print(f\"Count of pairs with sum {target_sum_A} in the list: {pairs_count_A}\")\n"
      ]
    },
    {
      "cell_type": "code",
      "source": [
        "#Q2\n",
        "# Function definition\n",
        "def calculate_range(real_numbers):\n",
        "    if len(real_numbers) < 3:\n",
        "        raise ValueError(\"Range determination not possible for lists with less than 3 elements.\")\n",
        "\n",
        "    return max(real_numbers) - min(real_numbers)\n",
        "\n",
        "\n",
        "real_numbers_a = [5, 3, 8, 1, 0, 4]\n",
        "range_a = calculate_range(real_numbers_a)\n",
        "print(f\"Range of the list: {range_a}\")\n"
      ],
      "metadata": {
        "colab": {
          "base_uri": "https://localhost:8080/"
        },
        "id": "k4RaGbefWwN8",
        "outputId": "7e409393-90fa-4a3f-f4ed-fcbdfff731e6"
      },
      "execution_count": 2,
      "outputs": [
        {
          "output_type": "stream",
          "name": "stdout",
          "text": [
            "Range of the list: 8\n"
          ]
        }
      ]
    },
    {
      "cell_type": "code",
      "source": [
        "#Q3\n",
        "#Function definition\n",
        "def matrix_power(matrix, power):\n",
        "    result = matrix\n",
        "    for _ in range(power - 1):\n",
        "        # Matrix multiplication using list comprehensions\n",
        "        result = [[sum(a * b for a, b in zip(row, col)) for col in zip(*matrix)] for row in result]\n",
        "\n",
        "    return result\n",
        "#Function definition\n",
        "def input_matrix():\n",
        "    rows = int(input(\"Enter the number of rows: \"))\n",
        "    cols = int(input(\"Enter the number of columns: \"))\n",
        "\n",
        "    matrix = []\n",
        "    for i in range(rows):\n",
        "        row = []\n",
        "        for j in range(cols):\n",
        "            element = float(input(f\"Enter element at position ({i + 1}, {j + 1}): \"))\n",
        "            row.append(element)\n",
        "        matrix.append(row)\n",
        "\n",
        "    return matrix\n",
        "#Function definition\n",
        "def input_power():\n",
        "    return int(input(\"Enter the power to which the matrix should be raised: \"))\n",
        "\n",
        "matrix_a = input_matrix()\n",
        "power_a = input_power()\n",
        "\n",
        "print(f\"The resultant matrix after raising it to the power of {power_a} is:\\n{matrix_power(matrix_a, power_a)}\")\n"
      ],
      "metadata": {
        "colab": {
          "base_uri": "https://localhost:8080/"
        },
        "id": "_3deRUaxXIY-",
        "outputId": "c25bd4b6-3a91-4579-a3ff-657fd85602f7"
      },
      "execution_count": 3,
      "outputs": [
        {
          "output_type": "stream",
          "name": "stdout",
          "text": [
            "Enter the number of rows: 3\n",
            "Enter the number of columns: 2\n",
            "Enter element at position (1, 1): 2\n",
            "Enter element at position (1, 2): 1\n",
            "Enter element at position (2, 1): 4\n",
            "Enter element at position (2, 2): 5\n",
            "Enter element at position (3, 1): 6\n",
            "Enter element at position (3, 2): 1\n",
            "Enter the power to which the matrix should be raised: 3\n",
            "The resultant matrix after raising it to the power of 3 is:\n",
            "[[44.0, 43.0], [172.0, 173.0], [76.0, 71.0]]\n"
          ]
        }
      ]
    },
    {
      "cell_type": "code",
      "source": [
        "#Q4\n",
        "# Function definition\n",
        "def highest_occurrence_char(input_string):\n",
        "    char_count = {}\n",
        "    for char in input_string:\n",
        "        if char.isalpha():\n",
        "            # Updates the count in the dictionary\n",
        "            char_count[char] = char_count.get(char, 0) + 1\n",
        "\n",
        "    # Checks if there are no alphabets in the input\n",
        "    if not char_count:\n",
        "        return None, 0\n",
        "\n",
        "    # Finds the character with the maximum count\n",
        "    max_char = max(char_count, key=char_count.get)\n",
        "    max_count = char_count[max_char]\n",
        "\n",
        "    return max_char, max_count\n",
        "\n",
        "\n",
        "input_string = \"hippopotamus\"\n",
        "max_char_A, max_count_A = highest_occurrence_char(input_string)\n",
        "print(f\"Max occurring character: '{max_char_A}', Occurrence count: {max_count_A}\")\n"
      ],
      "metadata": {
        "id": "YCMybdZUXLze"
      },
      "execution_count": null,
      "outputs": []
    }
  ]
}